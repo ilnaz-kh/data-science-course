{
 "cells": [
  {
   "cell_type": "code",
   "execution_count": 15,
   "metadata": {},
   "outputs": [
    {
     "name": "stdout",
     "output_type": "stream",
     "text": [
      "یک عدد بین 1 و 100 انتخاب کنید. شما 6 حق انتخاب دارید: 50\n",
      "حدس شما بیشتر از عدد مورد نظر می باشد\n",
      "یک عدد بین 1 و 100 انتخاب کنید. شما 5 حق انتخاب دارید: fgh\n",
      "عدد معتبری وارد نکرده اید\n",
      "یک عدد بین 1 و 100 انتخاب کنید. شما 5 حق انتخاب دارید: 567\n",
      "عدد وارد شده بین 1 و 100 نمی باشد. لطفا عدد صحیح وارد کنید\n",
      "یک عدد بین 1 و 100 انتخاب کنید. شما 5 حق انتخاب دارید: 25\n",
      "حدس شما بیشتر از عدد مورد نظر می باشد\n",
      "یک عدد بین 1 و 100 انتخاب کنید. شما 4 حق انتخاب دارید: 13\n",
      "حدس شما بیشتر از عدد مورد نظر می باشد\n",
      "یک عدد بین 1 و 100 انتخاب کنید. شما 3 حق انتخاب دارید: 7\n",
      "حدس شما کمتر از عدد مورد نظر می باشد\n",
      "یک عدد بین 1 و 100 انتخاب کنید. شما 2 حق انتخاب دارید: 10\n",
      "شما با 5 حدس، برنده شدید!\n"
     ]
    }
   ],
   "source": [
    "##### Command-Line 'Guess Number' program:\n",
    "import random\n",
    "\n",
    "## Constansts:\n",
    "LOWER = 1\n",
    "UPPER = 100\n",
    "MAX_GUESSES = 6\n",
    "## Global Variables:\n",
    "computer_guess = int(random.randint(LOWER, UPPER+1))\n",
    "count_guesses = 0\n",
    "\n",
    "while count_guesses < MAX_GUESSES:\n",
    "    \n",
    "    guessed_num = input(f\"یک عدد بین {LOWER} و {UPPER} انتخاب کنید. شما {MAX_GUESSES-count_guesses} حق انتخاب دارید: \")\n",
    "    try:\n",
    "        guessed_num = int(guessed_num)\n",
    "    except:\n",
    "        print(\"عدد معتبری وارد نکرده اید\")\n",
    "    else:\n",
    "        if guessed_num < LOWER or guessed_num > UPPER:\n",
    "            print(f\"عدد وارد شده بین {LOWER} و {UPPER} نمی باشد. لطفا عدد صحیح وارد کنید\")\n",
    "        elif guessed_num == computer_guess:\n",
    "            count_guesses += 1\n",
    "            print(f\"شما با {count_guesses} حدس، برنده شدید!\")\n",
    "            break\n",
    "        elif guessed_num > computer_guess:\n",
    "            count_guesses += 1\n",
    "            if count_guesses < MAX_GUESSES:\n",
    "                print(\"حدس شما بیشتر از عدد مورد نظر می باشد\")\n",
    "            else: # count_guesses == MAX_GUESSES\n",
    "                print(f\"شما باختید! عدد مورد نظر {computer_guess} بوده است\")\n",
    "        else: # guessed_num < computer_guess\n",
    "            count_guesses += 1\n",
    "            if count_guesses < MAX_GUESSES:\n",
    "                print(\"حدس شما کمتر از عدد مورد نظر می باشد\")\n",
    "            else: # count_guesses == MAX_GUESSES\n",
    "                print(f\"شما باختید! عدد مورد نظر {computer_guess} بوده است\")\n",
    "        "
   ]
  },
  {
   "cell_type": "code",
   "execution_count": null,
   "metadata": {},
   "outputs": [],
   "source": []
  }
 ],
 "metadata": {
  "kernelspec": {
   "display_name": "Python 3 (ipykernel)",
   "language": "python",
   "name": "python3"
  },
  "language_info": {
   "codemirror_mode": {
    "name": "ipython",
    "version": 3
   },
   "file_extension": ".py",
   "mimetype": "text/x-python",
   "name": "python",
   "nbconvert_exporter": "python",
   "pygments_lexer": "ipython3",
   "version": "3.10.9"
  }
 },
 "nbformat": 4,
 "nbformat_minor": 2
}
